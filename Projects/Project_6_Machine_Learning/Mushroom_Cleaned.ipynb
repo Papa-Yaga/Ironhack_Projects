{
 "cells": [
  {
   "cell_type": "code",
   "execution_count": 28,
   "id": "06d60124-335f-4f5a-9252-b6b7bd9b5b18",
   "metadata": {},
   "outputs": [],
   "source": [
    "import pandas as pd\n",
    "import numpy as np\n",
    "import matplotlib.pyplot as plt\n",
    "import seaborn as sns\n",
    "from datetime import datetime as dt\n",
    "import scipy.stats as st\n",
    "\n",
    "from sklearn.model_selection import train_test_split, cross_val_score, GridSearchCV\n",
    "from sklearn.neighbors import KNeighborsClassifier\n",
    "from sklearn.preprocessing import MinMaxScaler, OneHotEncoder, LabelEncoder\n",
    "from sklearn.metrics import r2_score, f1_score, recall_score\n",
    "from sklearn import tree\n",
    "\n",
    "import lightgbm as lgb\n",
    "\n",
    "import warnings\n",
    "\n",
    "warnings.filterwarnings(\"ignore\", category=DeprecationWarning)\n",
    "warnings.filterwarnings(\"ignore\", category=FutureWarning)\n",
    "\n",
    "%matplotlib inline"
   ]
  },
  {
   "cell_type": "code",
   "execution_count": 3,
   "id": "460d8c22-b2e7-473c-aec0-edabb7901ef5",
   "metadata": {},
   "outputs": [],
   "source": [
    "df = pd.read_csv(\"data\\mushroom_cleaned.csv\")\n",
    "df_second = pd.read_csv(\"data\\secondary_data.csv\", sep=\";\")"
   ]
  },
  {
   "cell_type": "code",
   "execution_count": 12,
   "id": "4b99f997-1991-4a7a-9829-2842fba61605",
   "metadata": {},
   "outputs": [
    {
     "data": {
      "text/html": [
       "<div>\n",
       "<style scoped>\n",
       "    .dataframe tbody tr th:only-of-type {\n",
       "        vertical-align: middle;\n",
       "    }\n",
       "\n",
       "    .dataframe tbody tr th {\n",
       "        vertical-align: top;\n",
       "    }\n",
       "\n",
       "    .dataframe thead th {\n",
       "        text-align: right;\n",
       "    }\n",
       "</style>\n",
       "<table border=\"1\" class=\"dataframe\">\n",
       "  <thead>\n",
       "    <tr style=\"text-align: right;\">\n",
       "      <th></th>\n",
       "      <th>cap-diameter</th>\n",
       "      <th>cap-shape</th>\n",
       "      <th>gill-attachment</th>\n",
       "      <th>gill-color</th>\n",
       "      <th>stem-height</th>\n",
       "      <th>stem-width</th>\n",
       "      <th>stem-color</th>\n",
       "      <th>season</th>\n",
       "      <th>class</th>\n",
       "    </tr>\n",
       "  </thead>\n",
       "  <tbody>\n",
       "    <tr>\n",
       "      <th>0</th>\n",
       "      <td>1372</td>\n",
       "      <td>2</td>\n",
       "      <td>2</td>\n",
       "      <td>10</td>\n",
       "      <td>3.807467</td>\n",
       "      <td>1545</td>\n",
       "      <td>11</td>\n",
       "      <td>1.804273</td>\n",
       "      <td>1</td>\n",
       "    </tr>\n",
       "    <tr>\n",
       "      <th>1</th>\n",
       "      <td>1461</td>\n",
       "      <td>2</td>\n",
       "      <td>2</td>\n",
       "      <td>10</td>\n",
       "      <td>3.807467</td>\n",
       "      <td>1557</td>\n",
       "      <td>11</td>\n",
       "      <td>1.804273</td>\n",
       "      <td>1</td>\n",
       "    </tr>\n",
       "    <tr>\n",
       "      <th>2</th>\n",
       "      <td>1371</td>\n",
       "      <td>2</td>\n",
       "      <td>2</td>\n",
       "      <td>10</td>\n",
       "      <td>3.612496</td>\n",
       "      <td>1566</td>\n",
       "      <td>11</td>\n",
       "      <td>1.804273</td>\n",
       "      <td>1</td>\n",
       "    </tr>\n",
       "    <tr>\n",
       "      <th>3</th>\n",
       "      <td>1261</td>\n",
       "      <td>6</td>\n",
       "      <td>2</td>\n",
       "      <td>10</td>\n",
       "      <td>3.787572</td>\n",
       "      <td>1566</td>\n",
       "      <td>11</td>\n",
       "      <td>1.804273</td>\n",
       "      <td>1</td>\n",
       "    </tr>\n",
       "    <tr>\n",
       "      <th>4</th>\n",
       "      <td>1305</td>\n",
       "      <td>6</td>\n",
       "      <td>2</td>\n",
       "      <td>10</td>\n",
       "      <td>3.711971</td>\n",
       "      <td>1464</td>\n",
       "      <td>11</td>\n",
       "      <td>0.943195</td>\n",
       "      <td>1</td>\n",
       "    </tr>\n",
       "  </tbody>\n",
       "</table>\n",
       "</div>"
      ],
      "text/plain": [
       "   cap-diameter  cap-shape  gill-attachment  gill-color  stem-height  \\\n",
       "0          1372          2                2          10     3.807467   \n",
       "1          1461          2                2          10     3.807467   \n",
       "2          1371          2                2          10     3.612496   \n",
       "3          1261          6                2          10     3.787572   \n",
       "4          1305          6                2          10     3.711971   \n",
       "\n",
       "   stem-width  stem-color    season  class  \n",
       "0        1545          11  1.804273      1  \n",
       "1        1557          11  1.804273      1  \n",
       "2        1566          11  1.804273      1  \n",
       "3        1566          11  1.804273      1  \n",
       "4        1464          11  0.943195      1  "
      ]
     },
     "execution_count": 12,
     "metadata": {},
     "output_type": "execute_result"
    }
   ],
   "source": [
    "df.head()"
   ]
  },
  {
   "cell_type": "code",
   "execution_count": 15,
   "id": "8875852e-b4ee-4a46-85d2-4f4cba11db3f",
   "metadata": {},
   "outputs": [
    {
     "data": {
      "text/plain": [
       "{'n_neighbors': 3}"
      ]
     },
     "execution_count": 15,
     "metadata": {},
     "output_type": "execute_result"
    }
   ],
   "source": [
    "working_df = df.copy()\n",
    "features = working_df.drop(columns=[\"class\"])\n",
    "target = working_df[\"class\"]\n",
    "\n",
    "X_train, X_test, y_train, y_test = train_test_split(features, target, test_size=.2, random_state=42)\n",
    "\n",
    "norm = MinMaxScaler()\n",
    "norm.fit(X_train)\n",
    "X_train_norm = pd.DataFrame(norm.transform(X_train), columns=X_train.columns)\n",
    "X_test_norm = pd.DataFrame(norm.transform(X_test), columns=X_test.columns)\n",
    "\n",
    "knn = KNeighborsClassifier()\n",
    "grid = {\"n_neighbors\":[x+1 for x in range(20)]}\n",
    "\n",
    "gscv = GridSearchCV(knn, grid, cv=5)\n",
    "gscv.fit(X_train_norm, y_train)\n",
    "gscv.best_params_"
   ]
  },
  {
   "cell_type": "code",
   "execution_count": 16,
   "id": "14834f46-3d1f-4c32-b201-415128cb7cde",
   "metadata": {},
   "outputs": [
    {
     "data": {
      "text/plain": [
       "0.993218040013564"
      ]
     },
     "execution_count": 16,
     "metadata": {},
     "output_type": "execute_result"
    }
   ],
   "source": [
    "optimal_knn = KNeighborsClassifier(n_neighbors=3)\n",
    "optimal_knn.fit(X_train_norm, y_train)\n",
    "knn_pred = optimal_knn.predict(X_test_norm)\n",
    "\n",
    "recall_score(y_test, knn_pred)"
   ]
  },
  {
   "cell_type": "markdown",
   "id": "393aecd4-c921-4613-9ae7-bb02e1512ad0",
   "metadata": {},
   "source": [
    "**--**"
   ]
  },
  {
   "cell_type": "code",
   "execution_count": 23,
   "id": "a15c0988-e187-42a5-bb0a-033519dd7567",
   "metadata": {},
   "outputs": [],
   "source": [
    "from sklearn.tree import DecisionTreeClassifier"
   ]
  },
  {
   "cell_type": "code",
   "execution_count": 26,
   "id": "d8b52031-ab2f-482c-ba65-73604e4f1095",
   "metadata": {},
   "outputs": [
    {
     "data": {
      "text/plain": [
       "{'max_depth': None, 'max_leaf_nodes': None, 'random_state': 42}"
      ]
     },
     "execution_count": 26,
     "metadata": {},
     "output_type": "execute_result"
    }
   ],
   "source": [
    "tree = DecisionTreeClassifier()\n",
    "tree_grid = {\"max_leaf_nodes\":[5,10,15,20,None], \"max_depth\":[5,10,15,None], \"random_state\":[42]}\n",
    "\n",
    "tree_gscv = GridSearchCV(tree, tree_grid, cv=5)\n",
    "tree_gscv.fit(X_train_norm, y_train)\n",
    "tree_gscv.best_params_"
   ]
  },
  {
   "cell_type": "code",
   "execution_count": 27,
   "id": "9c59fce9-bc3f-4639-a2d8-6100a5c4ed90",
   "metadata": {},
   "outputs": [
    {
     "data": {
      "text/plain": [
       "0.9821973550356052"
      ]
     },
     "execution_count": 27,
     "metadata": {},
     "output_type": "execute_result"
    }
   ],
   "source": [
    "optimal_tree = DecisionTreeClassifier(random_state=42)\n",
    "optimal_tree.fit(X_train_norm, y_train)\n",
    "tree_pred = optimal_tree.predict(X_test_norm)\n",
    "\n",
    "recall_score(y_test, tree_pred)"
   ]
  },
  {
   "cell_type": "markdown",
   "id": "f67f919c-1f08-4a2e-9c3b-7563aeade663",
   "metadata": {},
   "source": [
    "**--**"
   ]
  },
  {
   "cell_type": "code",
   "execution_count": 31,
   "id": "e76647ba-8910-4360-b122-0125164ff35e",
   "metadata": {},
   "outputs": [
    {
     "name": "stdout",
     "output_type": "stream",
     "text": [
      "[LightGBM] [Warning] Accuracy may be bad since you didn't explicitly set num_leaves OR 2^max_depth > num_leaves. (num_leaves=31).\n",
      "[LightGBM] [Warning] Accuracy may be bad since you didn't explicitly set num_leaves OR 2^max_depth > num_leaves. (num_leaves=31).\n",
      "[LightGBM] [Info] Number of positive: 23777, number of negative: 19451\n",
      "[LightGBM] [Info] Auto-choosing col-wise multi-threading, the overhead of testing was 0.001927 seconds.\n",
      "You can set `force_col_wise=true` to remove the overhead.\n",
      "[LightGBM] [Info] Total Bins 808\n",
      "[LightGBM] [Info] Number of data points in the train set: 43228, number of used features: 8\n",
      "[LightGBM] [Warning] Accuracy may be bad since you didn't explicitly set num_leaves OR 2^max_depth > num_leaves. (num_leaves=31).\n",
      "[LightGBM] [Info] [binary:BoostFromScore]: pavg=0.550037 -> initscore=0.200820\n",
      "[LightGBM] [Info] Start training from score 0.200820\n",
      "[LightGBM] [Warning] Accuracy may be bad since you didn't explicitly set num_leaves OR 2^max_depth > num_leaves. (num_leaves=31).\n"
     ]
    },
    {
     "data": {
      "text/plain": [
       "0.9777890810444219"
      ]
     },
     "execution_count": 31,
     "metadata": {},
     "output_type": "execute_result"
    }
   ],
   "source": [
    "model = lgb.LGBMClassifier(learning_rate=0.09,max_depth=15,random_state=42)\n",
    "model.fit(X_train_norm, y_train, eval_set=[(X_test_norm, y_test),(X_train_norm, y_train)],eval_metric='logloss')\n",
    "lgbm_pred = model.predict(X_test_norm)\n",
    "\n",
    "recall_score(y_test, lgbm_pred)"
   ]
  }
 ],
 "metadata": {
  "kernelspec": {
   "display_name": "Python 3 (ipykernel)",
   "language": "python",
   "name": "python3"
  },
  "language_info": {
   "codemirror_mode": {
    "name": "ipython",
    "version": 3
   },
   "file_extension": ".py",
   "mimetype": "text/x-python",
   "name": "python",
   "nbconvert_exporter": "python",
   "pygments_lexer": "ipython3",
   "version": "3.11.7"
  }
 },
 "nbformat": 4,
 "nbformat_minor": 5
}
